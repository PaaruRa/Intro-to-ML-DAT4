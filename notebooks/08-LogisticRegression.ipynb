{
 "cells": [
  {
   "cell_type": "markdown",
   "metadata": {},
   "source": [
    "# Logistic Regression\n",
    "\n",
    "In linear regression, the parameter $\\beta_{1}$ represents the change in the response variable (output) for a unit change in $x_{1}$.\n",
    "\n",
    "$$\n",
    "y = \\beta_{0} + \\beta_{1}x_{1}\n",
    "$$\n",
    "\n",
    "In logistic regression, the parameter $\\beta_{1}$ represents the change in the **log-odds** for a unit change in $x_{1}$.\n",
    "\n",
    "$$\n",
    "\\log{(\\frac{p}{1 - p})} = \\beta_{0} + \\beta_{1}x_{1}\n",
    "$$\n",
    "\n",
    "where $p$ is the probability of class membership.\n",
    "\n",
    "So, the output is:\n",
    "\n",
    "$$\n",
    "p = \\frac{ \\exp{(\\beta_{0} + \\beta_{1}x_{1}}) }{1 + \\exp{(\\beta_{0} + \\beta_{1}x_{1})}}\n",
    "$$\n",
    "\n",
    "(Note: Odds of an event is the ratio of the probability of an event by its complement).\n",
    "\n",
    "More generally, Logistic Regression is a [Generalized Linear Model](https://en.wikipedia.org/wiki/Generalized_linear_model) with the [Logit](https://en.wikipedia.org/wiki/Logit) link function and with [Bernoulli Distribution](https://en.wikipedia.org/wiki/Bernoulli_distribution) as the distribution of error terms."
   ]
  },
  {
   "cell_type": "code",
   "execution_count": 1,
   "metadata": {},
   "outputs": [],
   "source": [
    "import numpy as np\n",
    "import pandas as pd\n",
    "import matplotlib.pyplot as plt"
   ]
  },
  {
   "cell_type": "markdown",
   "metadata": {},
   "source": [
    "### Exercise 1\n",
    "\n",
    "Plot the logistic sigmoid function: $p$ for varying values of $x_{1}$. Let $\\beta_{0} = 0$ and $\\beta_{1} = 1$.\n",
    "\n"
   ]
  },
  {
   "cell_type": "code",
   "execution_count": 2,
   "metadata": {},
   "outputs": [],
   "source": [
    "# Code Here"
   ]
  },
  {
   "cell_type": "markdown",
   "metadata": {},
   "source": [
    "## GK or not? Revisited\n",
    "\n",
    "This time we'll use Logistic Regression on a slightly larger version of the dataset (800 GK; 1200 outfield)."
   ]
  },
  {
   "cell_type": "code",
   "execution_count": null,
   "metadata": {},
   "outputs": [],
   "source": [
    "data = pd.read_csv('../data/players2.csv')"
   ]
  },
  {
   "cell_type": "markdown",
   "metadata": {},
   "source": [
    "### Exercise 2\n",
    "\n",
    "Create a new column `Target` by mapping `Position` column. `GK` becomes `1`, `Outfield` becomes `0`."
   ]
  },
  {
   "cell_type": "code",
   "execution_count": 1,
   "metadata": {},
   "outputs": [],
   "source": [
    "# Code Here"
   ]
  },
  {
   "cell_type": "markdown",
   "metadata": {},
   "source": [
    "### Exercise 3\n",
    "\n",
    "Split the data into train (80%) and test (20%). The train will be further split using cross validation (through a grid search).\n",
    "\n",
    "Use sklearn's train_test_split. Specify `stratify` option to retain class balance."
   ]
  },
  {
   "cell_type": "code",
   "execution_count": 2,
   "metadata": {},
   "outputs": [],
   "source": [
    "from sklearn.model_selection import train_test_split"
   ]
  },
  {
   "cell_type": "code",
   "execution_count": null,
   "metadata": {},
   "outputs": [],
   "source": [
    "# Code Here\n",
    "\n",
    "# train_set = \n",
    "# test_set = "
   ]
  },
  {
   "cell_type": "markdown",
   "metadata": {},
   "source": [
    "## Grid Search\n",
    "\n",
    "We'll now do grid search, a method for [Hyperparameter optimization](https://en.wikipedia.org/wiki/Hyperparameter_optimization)."
   ]
  },
  {
   "cell_type": "code",
   "execution_count": 3,
   "metadata": {},
   "outputs": [],
   "source": [
    "from sklearn.model_selection import GridSearchCV"
   ]
  },
  {
   "cell_type": "markdown",
   "metadata": {},
   "source": [
    "### Exercise 4\n",
    "\n",
    "Find the best parameter values for `penalty` and `C` among those given below using GridSearchCV.\n",
    "\n",
    "Use 5-fold validation."
   ]
  },
  {
   "cell_type": "code",
   "execution_count": null,
   "metadata": {},
   "outputs": [],
   "source": [
    "params = {'penalty': ['l1', 'l2'], 'C': [0.001,0.01,0.1,1,10,100,1000]}"
   ]
  },
  {
   "cell_type": "markdown",
   "metadata": {},
   "source": [
    "## Making predictions"
   ]
  },
  {
   "cell_type": "markdown",
   "metadata": {},
   "source": [
    "### Excerise 5\n",
    "\n",
    "Create a model with the best parameters found above using whole train_set "
   ]
  },
  {
   "cell_type": "code",
   "execution_count": null,
   "metadata": {},
   "outputs": [],
   "source": [
    "# Code Here"
   ]
  },
  {
   "cell_type": "markdown",
   "metadata": {},
   "source": [
    "### Exercise 6\n",
    "\n",
    "Is someone with a height of 180 and weight of 170 a GK?"
   ]
  },
  {
   "cell_type": "code",
   "execution_count": null,
   "metadata": {},
   "outputs": [],
   "source": [
    "# Code Here"
   ]
  },
  {
   "cell_type": "markdown",
   "metadata": {},
   "source": [
    "## Testing the model"
   ]
  },
  {
   "cell_type": "markdown",
   "metadata": {},
   "source": [
    "### Exercise 7\n",
    "\n",
    "Compute the test accuracy on the test_set."
   ]
  },
  {
   "cell_type": "code",
   "execution_count": null,
   "metadata": {},
   "outputs": [],
   "source": [
    "# Code Here"
   ]
  }
 ],
 "metadata": {
  "kernelspec": {
   "display_name": "Python 3",
   "language": "python",
   "name": "python3"
  },
  "language_info": {
   "codemirror_mode": {
    "name": "ipython",
    "version": 3
   },
   "file_extension": ".py",
   "mimetype": "text/x-python",
   "name": "python",
   "nbconvert_exporter": "python",
   "pygments_lexer": "ipython3",
   "version": "3.6.5"
  }
 },
 "nbformat": 4,
 "nbformat_minor": 2
}
