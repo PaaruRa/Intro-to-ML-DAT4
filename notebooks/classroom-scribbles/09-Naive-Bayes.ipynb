{
 "cells": [
  {
   "cell_type": "markdown",
   "metadata": {},
   "source": [
    "# Naive Bayes\n",
    "\n",
    "[Naive Bayes](https://github.com/justmarkham/DAT4/blob/master/slides/13_naive_bayes.pdf) is a simple yet decently effective algorithm for classification. \n",
    "\n",
    "It's based on [Bayes' Theorem](https://en.wikipedia.org/wiki/Bayes%27_theorem):\n",
    "\n",
    "$$\n",
    "P(A|B) = \\frac{P(B|A)*P(A)}{P(B)}\n",
    "$$\n",
    "\n",
    "Or in classification terms:\n",
    "\n",
    "$$\n",
    "P(class\\ C\\ |\\ x_{i}) = \\frac{P(x_{i}\\ |\\ class\\  C)*P(class\\ C)}{P(x_{i})}\n",
    "$$\n",
    "\n",
    "The class of the instance is whatever class has the highest posterior $P(class\\ C\\ |\\ x_{i})$.\n",
    "\n",
    "Naive Bayes makes the naive assumption on $P(x_{i}\\ |\\ class\\ C)$ that the individual features are independent of each other. \n",
    "\n",
    "i.e\n",
    "\n",
    "$$\n",
    "P(x_{1}, x_{2},...x_{i}\\ |\\ class\\ C) = P(x_{1}\\ |\\ class\\ C)\\ P(x_{2}\\ |\\ class\\ C)\\ \\text{...} P(x_{i}\\ |\\ class\\ C)\n",
    "$$"
   ]
  },
  {
   "cell_type": "code",
   "execution_count": 1,
   "metadata": {},
   "outputs": [],
   "source": [
    "import numpy as np\n",
    "import pandas as pd\n",
    "import matplotlib.pyplot as plt"
   ]
  },
  {
   "cell_type": "markdown",
   "metadata": {},
   "source": [
    "## Play Data\n",
    "\n",
    "We have two weeks of data with the following attributes:\n",
    "\n",
    "- Holiday: Whether the day was a holiday or not.\n",
    "- Weather: What the weather of the day was.\n",
    "- Play (Target): Whether the kids went out to play or not.\n",
    "\n",
    "Our task is to learn a Naive Bayes classifier that will say whether the kids will go out to play or not given the `Holiday` and `Weather`."
   ]
  },
  {
   "cell_type": "code",
   "execution_count": 2,
   "metadata": {},
   "outputs": [],
   "source": [
    "play_data = pd.DataFrame([(\"Yes\", \"Sunny\", \"Yes\"),\n",
    "                          (\"No\", \"Overcast\", \"Yes\"),\n",
    "                          (\"No\", \"Rainy\", \"No\"),\n",
    "                          (\"Yes\", \"Sunny\", \"Yes\"),\n",
    "                          (\"No\", \"Sunny\", \"No\"),\n",
    "                          (\"Yes\", \"Overcast\", \"Yes\"),\n",
    "                          (\"Yes\", \"Rainy\", \"No\"),\n",
    "                          (\"No\", \"Sunny\", \"Yes\"),\n",
    "                          (\"Yes\", \"Overcast\", \"Yes\"),\n",
    "                          (\"No\", \"Rainy\", \"No\"),\n",
    "                          (\"Yes\", \"Rainy\", \"Yes\"),\n",
    "                          (\"Yes\", \"Overcast\", \"No\"),\n",
    "                          (\"Yes\", \"Sunny\", \"Yes\"),\n",
    "                          (\"No\", \"Overcast\", \"No\")\n",
    "                         ], columns=['Holiday', 'Weather', 'Play'])"
   ]
  },
  {
   "cell_type": "code",
   "execution_count": 3,
   "metadata": {},
   "outputs": [
    {
     "data": {
      "text/html": [
       "<div>\n",
       "<style scoped>\n",
       "    .dataframe tbody tr th:only-of-type {\n",
       "        vertical-align: middle;\n",
       "    }\n",
       "\n",
       "    .dataframe tbody tr th {\n",
       "        vertical-align: top;\n",
       "    }\n",
       "\n",
       "    .dataframe thead th {\n",
       "        text-align: right;\n",
       "    }\n",
       "</style>\n",
       "<table border=\"1\" class=\"dataframe\">\n",
       "  <thead>\n",
       "    <tr style=\"text-align: right;\">\n",
       "      <th></th>\n",
       "      <th>Holiday</th>\n",
       "      <th>Weather</th>\n",
       "      <th>Play</th>\n",
       "    </tr>\n",
       "  </thead>\n",
       "  <tbody>\n",
       "    <tr>\n",
       "      <th>0</th>\n",
       "      <td>Yes</td>\n",
       "      <td>Sunny</td>\n",
       "      <td>Yes</td>\n",
       "    </tr>\n",
       "    <tr>\n",
       "      <th>1</th>\n",
       "      <td>No</td>\n",
       "      <td>Overcast</td>\n",
       "      <td>Yes</td>\n",
       "    </tr>\n",
       "    <tr>\n",
       "      <th>2</th>\n",
       "      <td>No</td>\n",
       "      <td>Rainy</td>\n",
       "      <td>No</td>\n",
       "    </tr>\n",
       "    <tr>\n",
       "      <th>3</th>\n",
       "      <td>Yes</td>\n",
       "      <td>Sunny</td>\n",
       "      <td>Yes</td>\n",
       "    </tr>\n",
       "    <tr>\n",
       "      <th>4</th>\n",
       "      <td>No</td>\n",
       "      <td>Sunny</td>\n",
       "      <td>No</td>\n",
       "    </tr>\n",
       "    <tr>\n",
       "      <th>5</th>\n",
       "      <td>Yes</td>\n",
       "      <td>Overcast</td>\n",
       "      <td>Yes</td>\n",
       "    </tr>\n",
       "    <tr>\n",
       "      <th>6</th>\n",
       "      <td>Yes</td>\n",
       "      <td>Rainy</td>\n",
       "      <td>No</td>\n",
       "    </tr>\n",
       "    <tr>\n",
       "      <th>7</th>\n",
       "      <td>No</td>\n",
       "      <td>Sunny</td>\n",
       "      <td>Yes</td>\n",
       "    </tr>\n",
       "    <tr>\n",
       "      <th>8</th>\n",
       "      <td>Yes</td>\n",
       "      <td>Overcast</td>\n",
       "      <td>Yes</td>\n",
       "    </tr>\n",
       "    <tr>\n",
       "      <th>9</th>\n",
       "      <td>No</td>\n",
       "      <td>Rainy</td>\n",
       "      <td>No</td>\n",
       "    </tr>\n",
       "    <tr>\n",
       "      <th>10</th>\n",
       "      <td>Yes</td>\n",
       "      <td>Rainy</td>\n",
       "      <td>Yes</td>\n",
       "    </tr>\n",
       "    <tr>\n",
       "      <th>11</th>\n",
       "      <td>Yes</td>\n",
       "      <td>Overcast</td>\n",
       "      <td>No</td>\n",
       "    </tr>\n",
       "    <tr>\n",
       "      <th>12</th>\n",
       "      <td>Yes</td>\n",
       "      <td>Sunny</td>\n",
       "      <td>Yes</td>\n",
       "    </tr>\n",
       "    <tr>\n",
       "      <th>13</th>\n",
       "      <td>No</td>\n",
       "      <td>Overcast</td>\n",
       "      <td>No</td>\n",
       "    </tr>\n",
       "  </tbody>\n",
       "</table>\n",
       "</div>"
      ],
      "text/plain": [
       "   Holiday   Weather Play\n",
       "0      Yes     Sunny  Yes\n",
       "1       No  Overcast  Yes\n",
       "2       No     Rainy   No\n",
       "3      Yes     Sunny  Yes\n",
       "4       No     Sunny   No\n",
       "5      Yes  Overcast  Yes\n",
       "6      Yes     Rainy   No\n",
       "7       No     Sunny  Yes\n",
       "8      Yes  Overcast  Yes\n",
       "9       No     Rainy   No\n",
       "10     Yes     Rainy  Yes\n",
       "11     Yes  Overcast   No\n",
       "12     Yes     Sunny  Yes\n",
       "13      No  Overcast   No"
      ]
     },
     "execution_count": 3,
     "metadata": {},
     "output_type": "execute_result"
    }
   ],
   "source": [
    "play_data"
   ]
  },
  {
   "cell_type": "markdown",
   "metadata": {},
   "source": [
    "## \"Training\" a Naive Bayes\n",
    "\n",
    "\"Training\" a Naive Bayes involves calculating the **likelihood** which is the conditional probability of each feature given each class and the **prior** for each class.\n",
    "\n",
    "Note: We can ignore the denominator (**evidence prior**) as we are comparing **posteriors** for class and the denominator is same for each class."
   ]
  },
  {
   "cell_type": "markdown",
   "metadata": {},
   "source": [
    "### Computing class priors"
   ]
  },
  {
   "cell_type": "markdown",
   "metadata": {},
   "source": [
    "#### Exercise 1\n",
    "\n",
    "Compute the class priors for the two classes."
   ]
  },
  {
   "cell_type": "code",
   "execution_count": 7,
   "metadata": {},
   "outputs": [],
   "source": [
    "# Code Here\n",
    "priors = play_data['Play'].value_counts(normalize=True).to_dict() "
   ]
  },
  {
   "cell_type": "code",
   "execution_count": 8,
   "metadata": {},
   "outputs": [
    {
     "data": {
      "text/plain": [
       "{'Yes': 0.5714285714285714, 'No': 0.42857142857142855}"
      ]
     },
     "execution_count": 8,
     "metadata": {},
     "output_type": "execute_result"
    }
   ],
   "source": [
    "priors"
   ]
  },
  {
   "cell_type": "markdown",
   "metadata": {},
   "source": [
    "### Computing likelihood "
   ]
  },
  {
   "cell_type": "markdown",
   "metadata": {},
   "source": [
    "#### Exercise 2\n",
    "\n",
    "Compute the likelihood for each feature for both classes."
   ]
  },
  {
   "cell_type": "code",
   "execution_count": 10,
   "metadata": {},
   "outputs": [],
   "source": [
    "likelihoods = {}\n",
    "likelihoods['Play'] = {}\n",
    "likelihoods['Play']['Holiday'] = play_data[play_data['Play'] == 'Yes']['Holiday'].value_counts(normalize=True).to_dict()\n",
    "likelihoods['Play']['Weather'] = play_data[play_data['Play'] == 'Yes']['Weather'].value_counts(normalize=True).to_dict()\n",
    "\n",
    "likelihoods['NoPlay'] = {}\n",
    "likelihoods['NoPlay']['Holiday'] = play_data[play_data['Play'] == 'No']['Holiday'].value_counts(normalize=True).to_dict()\n",
    "likelihoods['NoPlay']['Weather'] = play_data[play_data['Play'] == 'No']['Weather'].value_counts(normalize=True).to_dict()"
   ]
  },
  {
   "cell_type": "code",
   "execution_count": 11,
   "metadata": {},
   "outputs": [
    {
     "data": {
      "text/plain": [
       "{'Play': {'Holiday': {'Yes': 0.75, 'No': 0.25},\n",
       "  'Weather': {'Sunny': 0.5, 'Overcast': 0.375, 'Rainy': 0.125}},\n",
       " 'NoPlay': {'Holiday': {'No': 0.6666666666666666, 'Yes': 0.3333333333333333},\n",
       "  'Weather': {'Rainy': 0.5,\n",
       "   'Overcast': 0.3333333333333333,\n",
       "   'Sunny': 0.16666666666666666}}}"
      ]
     },
     "execution_count": 11,
     "metadata": {},
     "output_type": "execute_result"
    }
   ],
   "source": [
    "likelihoods"
   ]
  },
  {
   "cell_type": "markdown",
   "metadata": {},
   "source": [
    "## Making predictions\n",
    "\n",
    "The prediction phase involves computing the **posterior** for each class and choosing the class with the highest probability."
   ]
  },
  {
   "cell_type": "markdown",
   "metadata": {},
   "source": [
    "#### Exercise 3\n",
    "\n",
    "Create a class `NBClassifier` that takes `priors` and `likelihoods` when initialized. \n",
    "\n",
    "It should have a `predict` function that takes inputs `Holiday` and `Weather` and returns the prediction for `Play` i.e True or False."
   ]
  },
  {
   "cell_type": "code",
   "execution_count": null,
   "metadata": {},
   "outputs": [],
   "source": [
    "# Code Here"
   ]
  }
 ],
 "metadata": {
  "kernelspec": {
   "display_name": "Python 3",
   "language": "python",
   "name": "python3"
  },
  "language_info": {
   "codemirror_mode": {
    "name": "ipython",
    "version": 3
   },
   "file_extension": ".py",
   "mimetype": "text/x-python",
   "name": "python",
   "nbconvert_exporter": "python",
   "pygments_lexer": "ipython3",
   "version": "3.6.5"
  }
 },
 "nbformat": 4,
 "nbformat_minor": 2
}
