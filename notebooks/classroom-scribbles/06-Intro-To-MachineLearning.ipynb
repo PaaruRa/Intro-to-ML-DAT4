{
 "cells": [
  {
   "cell_type": "markdown",
   "metadata": {},
   "source": [
    "# Introduction to Machine Learning\n",
    "\n",
    "Machine Learning \"gives computer the ability to learn without being explicitly programmed\".\n",
    "\n",
    "**How is it related to AI?**\n",
    "\n",
    "AI is about building *intelligent* machines. ML is about building *intelligent* machines that *learn* (from data). \n",
    "\n",
    "**How is it different from traditional programming?**\n",
    "\n",
    "First. What is a *program*? Well, a program specifies the computation required to generate an output from an input. Normally, it's us, as the programmers, who specify that computation required. \n",
    "\n",
    "But, in machine learning that computation is \"learned\" by the machine itself i.e it finds the program, the computation required.\n",
    "\n",
    "And that is extremely useful because for a lot of complex (and even seemingly simple) problems, we cannot exactly specify the computation required. \n",
    "\n",
    "**Example 1**: Converting Temperature in Celcius (input) to Temperature in Kelvin (output) can be explicitly programmed. But say from Temperature in Celcius (input) we need to calculate/predict no. of buckets of ice cream sold at a store. That cannot be explicitly programmed.\n",
    "\n",
    "**Example 2**: How would we create a program to recognize \"2\"? \n",
    "\n",
    "Could it handle all these variations?\n",
    "\n",
    "<img src=\"../images/twos.png\" width=\"400\"/>"
   ]
  },
  {
   "cell_type": "code",
   "execution_count": null,
   "metadata": {},
   "outputs": [],
   "source": [
    "def to_kelvin(temp_in_celcius):\n",
    "    # k = c * a + b\n",
    "    # a = 1; b = 273\n",
    "    temp_in_kelvin = temp_in_celcius + 273\n",
    "    return temp_in_kelvin"
   ]
  },
  {
   "cell_type": "raw",
   "metadata": {},
   "source": [
    "def ice_cream(c):\n",
    "    # i = c * a + b\n",
    "    # a = 2, b = -10\n",
    "    return ..."
   ]
  },
  {
   "cell_type": "code",
   "execution_count": 1,
   "metadata": {},
   "outputs": [],
   "source": [
    "import seaborn as sns"
   ]
  },
  {
   "cell_type": "code",
   "execution_count": 4,
   "metadata": {},
   "outputs": [],
   "source": [
    "data = np.array([[20, 30], [40, 70], [25, 40], [30, 50]])"
   ]
  },
  {
   "cell_type": "code",
   "execution_count": 6,
   "metadata": {},
   "outputs": [],
   "source": [
    "df = pd.DataFrame(data, columns=['celcius', 'icecream'])"
   ]
  },
  {
   "cell_type": "raw",
   "metadata": {},
   "source": [
    "20 -> 30\n",
    "40 -> 68\n",
    "25 -> 43\n",
    "30 -> 50\n",
    "32 -> ??\n",
    "...\n"
   ]
  },
  {
   "cell_type": "markdown",
   "metadata": {},
   "source": [
    "## Types of Machine Learning problems\n",
    "\n",
    "There are many ways we can divide ML problems. But generally we can think in terms of these axes:\n",
    "\n",
    "I. Supervised (has labeled data):\n",
    "- Regression (output is continuous valued)\n",
    "- Classification (output is Categorical)\n",
    "\n",
    "II. Unsupervised (has unlabeled data):\n",
    "- Dimensionality Reduction, etc (continous valued)\n",
    "- Clustering (categorical)"
   ]
  },
  {
   "cell_type": "raw",
   "metadata": {},
   "source": [
    "# Given past stock value, predict tomorrow's stock value\n",
    "200, 205, 300,...\n",
    "\n",
    "[200, 205] -> 300\n",
    "[205, 300, Day-Of-Week,... ] -> ??\n",
    "\n",
    "Historical output known? => Supervised"
   ]
  },
  {
   "cell_type": "raw",
   "metadata": {},
   "source": [
    "customer purchasing pattern. Explorative. \n",
    "A: ['Baby Diapers', ...]\n",
    "B: ['Jackets', 'Shoes',... \n",
    "\n",
    "Clusters??"
   ]
  },
  {
   "cell_type": "code",
   "execution_count": null,
   "metadata": {},
   "outputs": [],
   "source": []
  },
  {
   "cell_type": "markdown",
   "metadata": {},
   "source": [
    "## Goalkeeper or not? \n",
    "\n",
    "Given a player's height and weight, predict whether they are a goalkeeper or an outfield player.\n",
    "\n",
    "<img src=\"../images/gk.jpg\" width=\"300\"/>"
   ]
  },
  {
   "cell_type": "markdown",
   "metadata": {},
   "source": [
    "Supervised -> Classification"
   ]
  },
  {
   "cell_type": "code",
   "execution_count": 9,
   "metadata": {},
   "outputs": [],
   "source": [
    "import numpy as np\n",
    "import pandas as pd\n",
    "import matplotlib.pyplot as plt\n",
    "import seaborn as sns\n",
    "import sklearn"
   ]
  },
  {
   "cell_type": "code",
   "execution_count": 10,
   "metadata": {},
   "outputs": [],
   "source": [
    "df = pd.read_csv('../data/players.csv')"
   ]
  },
  {
   "cell_type": "code",
   "execution_count": 11,
   "metadata": {},
   "outputs": [
    {
     "data": {
      "text/html": [
       "<div>\n",
       "<style scoped>\n",
       "    .dataframe tbody tr th:only-of-type {\n",
       "        vertical-align: middle;\n",
       "    }\n",
       "\n",
       "    .dataframe tbody tr th {\n",
       "        vertical-align: top;\n",
       "    }\n",
       "\n",
       "    .dataframe thead th {\n",
       "        text-align: right;\n",
       "    }\n",
       "</style>\n",
       "<table border=\"1\" class=\"dataframe\">\n",
       "  <thead>\n",
       "    <tr style=\"text-align: right;\">\n",
       "      <th></th>\n",
       "      <th>player_api_id</th>\n",
       "      <th>player_name</th>\n",
       "      <th>height</th>\n",
       "      <th>weight</th>\n",
       "      <th>Position</th>\n",
       "    </tr>\n",
       "  </thead>\n",
       "  <tbody>\n",
       "    <tr>\n",
       "      <th>0</th>\n",
       "      <td>209371</td>\n",
       "      <td>Ali Messaoud</td>\n",
       "      <td>182.88</td>\n",
       "      <td>168</td>\n",
       "      <td>Outfield</td>\n",
       "    </tr>\n",
       "    <tr>\n",
       "      <th>1</th>\n",
       "      <td>172610</td>\n",
       "      <td>Damien Le Tallec</td>\n",
       "      <td>182.88</td>\n",
       "      <td>163</td>\n",
       "      <td>Outfield</td>\n",
       "    </tr>\n",
       "    <tr>\n",
       "      <th>2</th>\n",
       "      <td>115719</td>\n",
       "      <td>Dejan Skolnik</td>\n",
       "      <td>175.26</td>\n",
       "      <td>163</td>\n",
       "      <td>Outfield</td>\n",
       "    </tr>\n",
       "    <tr>\n",
       "      <th>3</th>\n",
       "      <td>26510</td>\n",
       "      <td>Gabor Babos</td>\n",
       "      <td>195.58</td>\n",
       "      <td>203</td>\n",
       "      <td>GK</td>\n",
       "    </tr>\n",
       "    <tr>\n",
       "      <th>4</th>\n",
       "      <td>30990</td>\n",
       "      <td>Justo Villar</td>\n",
       "      <td>180.34</td>\n",
       "      <td>187</td>\n",
       "      <td>GK</td>\n",
       "    </tr>\n",
       "  </tbody>\n",
       "</table>\n",
       "</div>"
      ],
      "text/plain": [
       "   player_api_id       player_name  height  weight  Position\n",
       "0         209371      Ali Messaoud  182.88     168  Outfield\n",
       "1         172610  Damien Le Tallec  182.88     163  Outfield\n",
       "2         115719     Dejan Skolnik  175.26     163  Outfield\n",
       "3          26510       Gabor Babos  195.58     203        GK\n",
       "4          30990      Justo Villar  180.34     187        GK"
      ]
     },
     "execution_count": 11,
     "metadata": {},
     "output_type": "execute_result"
    }
   ],
   "source": [
    "df.head()"
   ]
  },
  {
   "cell_type": "markdown",
   "metadata": {},
   "source": [
    "## Exercise 1\n",
    "\n",
    "Scatterplot (using `lmplot`) `height` and `weight`. Also use 'Position' for the `hue` parameter."
   ]
  },
  {
   "cell_type": "code",
   "execution_count": 18,
   "metadata": {},
   "outputs": [
    {
     "data": {
      "text/plain": [
       "<seaborn.axisgrid.FacetGrid at 0x7fea94458908>"
      ]
     },
     "execution_count": 18,
     "metadata": {},
     "output_type": "execute_result"
    },
    {
     "data": {
      "image/png": "[encoded data removed]",
      "text/plain": [
       "<Figure size 435.875x360 with 1 Axes>"
      ]
     },
     "metadata": {},
     "output_type": "display_data"
    }
   ],
   "source": [
    "#Code Here\n",
    "sns.lmplot(x='height', y='weight', data=df, fit_reg=False, scatter_kws={'alpha': 0.5}, hue='Position')"
   ]
  },
  {
   "cell_type": "markdown",
   "metadata": {},
   "source": [
    "### Exercise 2\n",
    "\n",
    "Create a new column `Target` by mapping `Position` column. `GK` becomes `1`, `Outfield` becomes `0`."
   ]
  },
  {
   "cell_type": "code",
   "execution_count": 19,
   "metadata": {},
   "outputs": [],
   "source": [
    "df['Target'] = df['Position'].map({'GK': 1, 'Outfield': 0})\n",
    "# df['Target'] = df['Position'].map(lambda x: int(x == 'GK'))"
   ]
  },
  {
   "cell_type": "code",
   "execution_count": 20,
   "metadata": {},
   "outputs": [
    {
     "data": {
      "text/html": [
       "<div>\n",
       "<style scoped>\n",
       "    .dataframe tbody tr th:only-of-type {\n",
       "        vertical-align: middle;\n",
       "    }\n",
       "\n",
       "    .dataframe tbody tr th {\n",
       "        vertical-align: top;\n",
       "    }\n",
       "\n",
       "    .dataframe thead th {\n",
       "        text-align: right;\n",
       "    }\n",
       "</style>\n",
       "<table border=\"1\" class=\"dataframe\">\n",
       "  <thead>\n",
       "    <tr style=\"text-align: right;\">\n",
       "      <th></th>\n",
       "      <th>player_api_id</th>\n",
       "      <th>player_name</th>\n",
       "      <th>height</th>\n",
       "      <th>weight</th>\n",
       "      <th>Position</th>\n",
       "      <th>Target</th>\n",
       "    </tr>\n",
       "  </thead>\n",
       "  <tbody>\n",
       "    <tr>\n",
       "      <th>0</th>\n",
       "      <td>209371</td>\n",
       "      <td>Ali Messaoud</td>\n",
       "      <td>182.88</td>\n",
       "      <td>168</td>\n",
       "      <td>Outfield</td>\n",
       "      <td>0</td>\n",
       "    </tr>\n",
       "    <tr>\n",
       "      <th>1</th>\n",
       "      <td>172610</td>\n",
       "      <td>Damien Le Tallec</td>\n",
       "      <td>182.88</td>\n",
       "      <td>163</td>\n",
       "      <td>Outfield</td>\n",
       "      <td>0</td>\n",
       "    </tr>\n",
       "    <tr>\n",
       "      <th>2</th>\n",
       "      <td>115719</td>\n",
       "      <td>Dejan Skolnik</td>\n",
       "      <td>175.26</td>\n",
       "      <td>163</td>\n",
       "      <td>Outfield</td>\n",
       "      <td>0</td>\n",
       "    </tr>\n",
       "    <tr>\n",
       "      <th>3</th>\n",
       "      <td>26510</td>\n",
       "      <td>Gabor Babos</td>\n",
       "      <td>195.58</td>\n",
       "      <td>203</td>\n",
       "      <td>GK</td>\n",
       "      <td>1</td>\n",
       "    </tr>\n",
       "    <tr>\n",
       "      <th>4</th>\n",
       "      <td>30990</td>\n",
       "      <td>Justo Villar</td>\n",
       "      <td>180.34</td>\n",
       "      <td>187</td>\n",
       "      <td>GK</td>\n",
       "      <td>1</td>\n",
       "    </tr>\n",
       "  </tbody>\n",
       "</table>\n",
       "</div>"
      ],
      "text/plain": [
       "   player_api_id       player_name  height  weight  Position  Target\n",
       "0         209371      Ali Messaoud  182.88     168  Outfield       0\n",
       "1         172610  Damien Le Tallec  182.88     163  Outfield       0\n",
       "2         115719     Dejan Skolnik  175.26     163  Outfield       0\n",
       "3          26510       Gabor Babos  195.58     203        GK       1\n",
       "4          30990      Justo Villar  180.34     187        GK       1"
      ]
     },
     "execution_count": 20,
     "metadata": {},
     "output_type": "execute_result"
    }
   ],
   "source": [
    "df.head()"
   ]
  },
  {
   "cell_type": "markdown",
   "metadata": {},
   "source": [
    "## Train-Test Split"
   ]
  },
  {
   "cell_type": "markdown",
   "metadata": {},
   "source": [
    "### Exercise 3\n",
    "\n",
    "Split `df` into `train_df` (70%) and `test_df` (30%). \n",
    "\n",
    "Hint: Use indexing with `loc`."
   ]
  },
  {
   "cell_type": "code",
   "execution_count": 32,
   "metadata": {},
   "outputs": [],
   "source": [
    "# Code Here\n",
    "train_df = df[:140]\n",
    "test_df = df[140:]"
   ]
  },
  {
   "cell_type": "markdown",
   "metadata": {},
   "source": [
    "## Self-Made Classifier"
   ]
  },
  {
   "cell_type": "markdown",
   "metadata": {},
   "source": [
    "We will define a classifier by ourselves by figuring out a threshold that makes sense. "
   ]
  },
  {
   "cell_type": "markdown",
   "metadata": {},
   "source": [
    "### Exercise 4\n",
    "\n",
    "i) Plot `height` distribution of the two groups. Call `sns.distplot` twice. First with data only for `GK`s. Again with data only for `Outfield`s. \n",
    "\n",
    "ii) Do the same for `weight`. "
   ]
  },
  {
   "cell_type": "code",
   "execution_count": 40,
   "metadata": {},
   "outputs": [
    {
     "data": {
      "image/png": "[encoded data removed]",
      "text/plain": [
       "<Figure size 432x288 with 1 Axes>"
      ]
     },
     "metadata": {},
     "output_type": "display_data"
    }
   ],
   "source": [
    "# Code Here\n",
    "sns.distplot(train_df[train_df['Position'] == 'GK']['height'])\n",
    "sns.distplot(train_df[train_df['Position'] == 'Outfield']['height'])\n",
    "plt.show()"
   ]
  },
  {
   "cell_type": "code",
   "execution_count": 41,
   "metadata": {},
   "outputs": [
    {
     "data": {
      "image/png": "[encoded data removed]",
      "text/plain": [
       "<Figure size 432x288 with 1 Axes>"
      ]
     },
     "metadata": {},
     "output_type": "display_data"
    }
   ],
   "source": [
    "# Code Here\n",
    "sns.distplot(train_df[train_df['Position'] == 'GK']['weight'])\n",
    "sns.distplot(train_df[train_df['Position'] == 'Outfield']['weight'])\n",
    "plt.show()"
   ]
  },
  {
   "cell_type": "raw",
   "metadata": {},
   "source": [
    "Height Threshold: 185 \n",
    "Weight Threshold: 170"
   ]
  },
  {
   "cell_type": "markdown",
   "metadata": {},
   "source": [
    "### Exercise 5\n",
    "\n",
    "Define a function `classify` that takes 2d numpy list (where each row contains height and weight of one player) and returns a list of predictions. Prediction is `1` if it thinks the person is a `GK` else `0`.\n",
    "\n",
    "Define thresholds yourself from the above plots. \n",
    "\n",
    "Eg: If `height` > ... and `weight` > ... , predict `1`."
   ]
  },
  {
   "cell_type": "code",
   "execution_count": 43,
   "metadata": {},
   "outputs": [],
   "source": [
    "inputs = np.array([[190, 180],\n",
    "                   [190, 140],\n",
    "                   [150, 160]])\n",
    "predictions = np.array([1, 0, 0])"
   ]
  },
  {
   "cell_type": "code",
   "execution_count": 48,
   "metadata": {},
   "outputs": [],
   "source": [
    "# Code Here\n",
    "def classify(inputs):\n",
    "    height_threshold = 185\n",
    "    weight_threshold = 170\n",
    "    return np.array(\n",
    "        (inputs[:, 0] > height_threshold) & (inputs[:, 1] > weight_threshold),\n",
    "        dtype='int')"
   ]
  },
  {
   "cell_type": "code",
   "execution_count": 49,
   "metadata": {},
   "outputs": [
    {
     "data": {
      "text/plain": [
       "array([1, 0, 0])"
      ]
     },
     "execution_count": 49,
     "metadata": {},
     "output_type": "execute_result"
    }
   ],
   "source": [
    "classify(inputs)"
   ]
  },
  {
   "cell_type": "markdown",
   "metadata": {},
   "source": [
    "### Exercise 6\n",
    "\n",
    "Compute accuracy of the classifier on the test set. \n",
    "\n",
    "You can do it manually by comparing the `Target` column and generated predictions. Or you can use `sklearn.metrics.accuracy_score`."
   ]
  },
  {
   "cell_type": "code",
   "execution_count": 50,
   "metadata": {},
   "outputs": [],
   "source": [
    "# Code Here\n",
    "preds = classify(test_df[['height', 'weight']].values)"
   ]
  },
  {
   "cell_type": "code",
   "execution_count": 51,
   "metadata": {},
   "outputs": [],
   "source": [
    "from sklearn.metrics import accuracy_score"
   ]
  },
  {
   "cell_type": "code",
   "execution_count": 53,
   "metadata": {},
   "outputs": [
    {
     "data": {
      "text/plain": [
       "0.83333333333333337"
      ]
     },
     "execution_count": 53,
     "metadata": {},
     "output_type": "execute_result"
    }
   ],
   "source": [
    "accuracy_score(test_df['Target'], preds)"
   ]
  },
  {
   "cell_type": "markdown",
   "metadata": {},
   "source": [
    "## Classification with KNN"
   ]
  },
  {
   "cell_type": "code",
   "execution_count": 60,
   "metadata": {},
   "outputs": [],
   "source": [
    "from sklearn.neighbors import KNeighborsClassifier"
   ]
  },
  {
   "cell_type": "code",
   "execution_count": 85,
   "metadata": {},
   "outputs": [],
   "source": [
    "classifier = KNeighborsClassifier(n_neighbors=7)"
   ]
  },
  {
   "cell_type": "code",
   "execution_count": 86,
   "metadata": {},
   "outputs": [],
   "source": [
    "train_x, train_y = train_df[['height', 'weight']].values, train_df['Target'].values"
   ]
  },
  {
   "cell_type": "code",
   "execution_count": 87,
   "metadata": {},
   "outputs": [
    {
     "data": {
      "text/plain": [
       "KNeighborsClassifier(algorithm='auto', leaf_size=30, metric='minkowski',\n",
       "           metric_params=None, n_jobs=1, n_neighbors=7, p=2,\n",
       "           weights='uniform')"
      ]
     },
     "execution_count": 87,
     "metadata": {},
     "output_type": "execute_result"
    }
   ],
   "source": [
    "classifier.fit(train_x, train_y)"
   ]
  },
  {
   "cell_type": "code",
   "execution_count": 90,
   "metadata": {},
   "outputs": [],
   "source": [
    "# Code Here\n",
    "test_x, test_y = test_df[['height', 'weight']].values, test_df['Target'].values\n",
    "nn_preds = classifier.predict(test_x)"
   ]
  },
  {
   "cell_type": "code",
   "execution_count": 91,
   "metadata": {},
   "outputs": [
    {
     "data": {
      "text/plain": [
       "0.83333333333333337"
      ]
     },
     "execution_count": 91,
     "metadata": {},
     "output_type": "execute_result"
    }
   ],
   "source": [
    "accuracy_score(test_y, nn_preds)"
   ]
  },
  {
   "cell_type": "markdown",
   "metadata": {},
   "source": [
    "## Resources\n",
    "\n",
    "* [Intro to ML: DAT4](https://github.com/justmarkham/DAT4/blob/master/slides/06_ml_knn.pdf)"
   ]
  }
 ],
 "metadata": {
  "kernelspec": {
   "display_name": "Python 3",
   "language": "python",
   "name": "python3"
  },
  "language_info": {
   "codemirror_mode": {
    "name": "ipython",
    "version": 3
   },
   "file_extension": ".py",
   "mimetype": "text/x-python",
   "name": "python",
   "nbconvert_exporter": "python",
   "pygments_lexer": "ipython3",
   "version": "3.6.5"
  }
 },
 "nbformat": 4,
 "nbformat_minor": 2
}
