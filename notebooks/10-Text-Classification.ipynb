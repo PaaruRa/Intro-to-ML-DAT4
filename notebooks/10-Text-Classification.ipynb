{
 "cells": [
  {
   "cell_type": "markdown",
   "metadata": {},
   "source": [
    "# Text Classification with Naive Bayes\n",
    "\n"
   ]
  },
  {
   "cell_type": "markdown",
   "metadata": {},
   "source": [
    "[Nepali IMBD](https://github.com/NISH1001/nepalimdb)."
   ]
  },
  {
   "cell_type": "code",
   "execution_count": 1,
   "metadata": {},
   "outputs": [],
   "source": [
    "import numpy as np\n",
    "import pandas as pd\n",
    "import matplotlib.pyplot as plt"
   ]
  },
  {
   "cell_type": "markdown",
   "metadata": {},
   "source": [
    "## 1. Loading Data and Preprocessing"
   ]
  },
  {
   "cell_type": "code",
   "execution_count": 2,
   "metadata": {},
   "outputs": [],
   "source": [
    "df = pd.read_json('../data/nepali-movies.json')"
   ]
  },
  {
   "cell_type": "code",
   "execution_count": 3,
   "metadata": {},
   "outputs": [
    {
     "data": {
      "text/html": [
       "<div>\n",
       "<style scoped>\n",
       "    .dataframe tbody tr th:only-of-type {\n",
       "        vertical-align: middle;\n",
       "    }\n",
       "\n",
       "    .dataframe tbody tr th {\n",
       "        vertical-align: top;\n",
       "    }\n",
       "\n",
       "    .dataframe thead th {\n",
       "        text-align: right;\n",
       "    }\n",
       "</style>\n",
       "<table border=\"1\" class=\"dataframe\">\n",
       "  <thead>\n",
       "    <tr style=\"text-align: right;\">\n",
       "      <th></th>\n",
       "      <th>genre</th>\n",
       "      <th>imdb_url</th>\n",
       "      <th>plot</th>\n",
       "      <th>rating</th>\n",
       "      <th>runtime</th>\n",
       "      <th>title</th>\n",
       "      <th>votes</th>\n",
       "      <th>year</th>\n",
       "    </tr>\n",
       "  </thead>\n",
       "  <tbody>\n",
       "    <tr>\n",
       "      <th>0</th>\n",
       "      <td>Drama, Romance</td>\n",
       "      <td>https://www.imdb.com/title/tt6944688/?ref_=adv...</td>\n",
       "      <td>A Man stalks a girl, after while they fall in ...</td>\n",
       "      <td>8.2</td>\n",
       "      <td>138 min</td>\n",
       "      <td>A Mero Hajur 2</td>\n",
       "      <td>164.0</td>\n",
       "      <td>2017</td>\n",
       "    </tr>\n",
       "    <tr>\n",
       "      <th>1</th>\n",
       "      <td>Comedy, Drama</td>\n",
       "      <td>https://www.imdb.com/title/tt7229666/?ref_=adv...</td>\n",
       "      <td>Chhakka Panja 2 continues with new story of Ra...</td>\n",
       "      <td>6.8</td>\n",
       "      <td>138 min</td>\n",
       "      <td>Chhakka Panja 2</td>\n",
       "      <td>190.0</td>\n",
       "      <td>2017</td>\n",
       "    </tr>\n",
       "    <tr>\n",
       "      <th>2</th>\n",
       "      <td>Comedy</td>\n",
       "      <td>https://www.imdb.com/title/tt8393764/?ref_=adv...</td>\n",
       "      <td>When she learns about the worst condition of t...</td>\n",
       "      <td>6.2</td>\n",
       "      <td>None</td>\n",
       "      <td>Chhakka Panja 3</td>\n",
       "      <td>52.0</td>\n",
       "      <td>2018</td>\n",
       "    </tr>\n",
       "    <tr>\n",
       "      <th>3</th>\n",
       "      <td>Comedy, Drama</td>\n",
       "      <td>https://www.imdb.com/title/tt6580708/?ref_=adv...</td>\n",
       "      <td>Dhanapati,a poor man suffering from high pover...</td>\n",
       "      <td>8.4</td>\n",
       "      <td>None</td>\n",
       "      <td>Dhanapati</td>\n",
       "      <td>46.0</td>\n",
       "      <td>2017</td>\n",
       "    </tr>\n",
       "    <tr>\n",
       "      <th>4</th>\n",
       "      <td>Drama, Romance</td>\n",
       "      <td>https://www.imdb.com/title/tt8475990/?ref_=adv...</td>\n",
       "      <td>An romantic relationship between a celebrity a...</td>\n",
       "      <td>NaN</td>\n",
       "      <td>None</td>\n",
       "      <td>A Mero Hajur 3</td>\n",
       "      <td>NaN</td>\n",
       "      <td>2019</td>\n",
       "    </tr>\n",
       "  </tbody>\n",
       "</table>\n",
       "</div>"
      ],
      "text/plain": [
       "            genre                                           imdb_url  \\\n",
       "0  Drama, Romance  https://www.imdb.com/title/tt6944688/?ref_=adv...   \n",
       "1   Comedy, Drama  https://www.imdb.com/title/tt7229666/?ref_=adv...   \n",
       "2          Comedy  https://www.imdb.com/title/tt8393764/?ref_=adv...   \n",
       "3   Comedy, Drama  https://www.imdb.com/title/tt6580708/?ref_=adv...   \n",
       "4  Drama, Romance  https://www.imdb.com/title/tt8475990/?ref_=adv...   \n",
       "\n",
       "                                                plot  rating  runtime  \\\n",
       "0  A Man stalks a girl, after while they fall in ...     8.2  138 min   \n",
       "1  Chhakka Panja 2 continues with new story of Ra...     6.8  138 min   \n",
       "2  When she learns about the worst condition of t...     6.2     None   \n",
       "3  Dhanapati,a poor man suffering from high pover...     8.4     None   \n",
       "4  An romantic relationship between a celebrity a...     NaN     None   \n",
       "\n",
       "             title  votes  year  \n",
       "0   A Mero Hajur 2  164.0  2017  \n",
       "1  Chhakka Panja 2  190.0  2017  \n",
       "2  Chhakka Panja 3   52.0  2018  \n",
       "3        Dhanapati   46.0  2017  \n",
       "4   A Mero Hajur 3    NaN  2019  "
      ]
     },
     "execution_count": 3,
     "metadata": {},
     "output_type": "execute_result"
    }
   ],
   "source": [
    "df.head()"
   ]
  },
  {
   "cell_type": "code",
   "execution_count": 5,
   "metadata": {},
   "outputs": [
    {
     "data": {
      "text/plain": [
       "(723, 8)"
      ]
     },
     "execution_count": 5,
     "metadata": {},
     "output_type": "execute_result"
    }
   ],
   "source": [
    "df.shape"
   ]
  },
  {
   "cell_type": "code",
   "execution_count": 10,
   "metadata": {},
   "outputs": [],
   "source": [
    "# Only keep rows where both \"genre\" and \"plot\" aren't null\n",
    "df = df[(~df['genre'].isnull()) & (~df['plot'].isnull())]"
   ]
  },
  {
   "cell_type": "code",
   "execution_count": 11,
   "metadata": {},
   "outputs": [
    {
     "data": {
      "text/plain": [
       "(644, 8)"
      ]
     },
     "execution_count": 11,
     "metadata": {},
     "output_type": "execute_result"
    }
   ],
   "source": [
    "df.shape"
   ]
  },
  {
   "cell_type": "markdown",
   "metadata": {},
   "source": [
    "We have multiple labels for each movie genre. So, it can actually be formulated as a multi-label classification. For now, we only consider whether a movie is `Romance` or not."
   ]
  },
  {
   "cell_type": "code",
   "execution_count": 22,
   "metadata": {},
   "outputs": [],
   "source": [
    "df['Romance'] = df['genre'].map(lambda x: 'Romance' in [genre.strip() for genre in x.split(',')])"
   ]
  },
  {
   "cell_type": "code",
   "execution_count": 23,
   "metadata": {},
   "outputs": [
    {
     "data": {
      "text/plain": [
       "False    537\n",
       "True     107\n",
       "Name: Romance, dtype: int64"
      ]
     },
     "execution_count": 23,
     "metadata": {},
     "output_type": "execute_result"
    }
   ],
   "source": [
    "df['Romance'].value_counts()"
   ]
  },
  {
   "cell_type": "markdown",
   "metadata": {},
   "source": [
    "### Exercise 1\n",
    "\n",
    "Map `Romance` into new `Target` column. `True` becomes `1` and `False` becomes `0`."
   ]
  },
  {
   "cell_type": "code",
   "execution_count": null,
   "metadata": {},
   "outputs": [],
   "source": [
    "# Code Here"
   ]
  },
  {
   "cell_type": "markdown",
   "metadata": {},
   "source": [
    "### Exercise 2\n",
    "\n",
    "Split df into training (80%) and test set (20%). Use the `stratify` option as well."
   ]
  },
  {
   "cell_type": "code",
   "execution_count": null,
   "metadata": {},
   "outputs": [],
   "source": [
    "# Code Here"
   ]
  },
  {
   "cell_type": "markdown",
   "metadata": {},
   "source": [
    "## 2. Extracting features from text"
   ]
  },
  {
   "cell_type": "markdown",
   "metadata": {},
   "source": [
    "We'll use [tf-idf](https://en.wikipedia.org/wiki/Tf%E2%80%93idf) to transform text data into vectors."
   ]
  },
  {
   "cell_type": "code",
   "execution_count": 26,
   "metadata": {},
   "outputs": [],
   "source": [
    "from sklearn.feature_extraction.text import TfidfVectorizer"
   ]
  },
  {
   "cell_type": "code",
   "execution_count": null,
   "metadata": {},
   "outputs": [],
   "source": [
    "vectorizer = TfidfVectorizer(stopword=\"english\")"
   ]
  },
  {
   "cell_type": "markdown",
   "metadata": {},
   "source": [
    "### Exercise 3\n",
    "\n",
    "`fit_transform` the training descriptions."
   ]
  },
  {
   "cell_type": "code",
   "execution_count": 27,
   "metadata": {},
   "outputs": [],
   "source": [
    "# Code Here"
   ]
  },
  {
   "cell_type": "markdown",
   "metadata": {},
   "source": [
    "## 3. Training a classifier"
   ]
  },
  {
   "cell_type": "code",
   "execution_count": 28,
   "metadata": {},
   "outputs": [],
   "source": [
    "from sklearn.naive_bayes import MultinomialNB"
   ]
  },
  {
   "cell_type": "markdown",
   "metadata": {},
   "source": [
    "### Exercise 4\n",
    "\n",
    "Create a classifier and train it."
   ]
  },
  {
   "cell_type": "code",
   "execution_count": 29,
   "metadata": {},
   "outputs": [],
   "source": [
    "# Code Here"
   ]
  },
  {
   "cell_type": "markdown",
   "metadata": {},
   "source": [
    "## 4. Testing the classifier"
   ]
  },
  {
   "cell_type": "markdown",
   "metadata": {},
   "source": [
    "### Exercise 5\n",
    "\n",
    "Evaluate performance on test set. Use the same `vectorizer` to vectorize the text.\n",
    "\n",
    "Apart from accuracy, also find `precision` and `recall` and determine the confusion matrix."
   ]
  },
  {
   "cell_type": "code",
   "execution_count": null,
   "metadata": {},
   "outputs": [],
   "source": [
    "# Code Here"
   ]
  },
  {
   "cell_type": "markdown",
   "metadata": {},
   "source": [
    "### Exercise 6\n",
    "\n",
    "Use the classifier to make predictions on a a given text."
   ]
  },
  {
   "cell_type": "code",
   "execution_count": null,
   "metadata": {},
   "outputs": [],
   "source": [
    "# Code Here"
   ]
  }
 ],
 "metadata": {
  "kernelspec": {
   "display_name": "Python 3",
   "language": "python",
   "name": "python3"
  },
  "language_info": {
   "codemirror_mode": {
    "name": "ipython",
    "version": 3
   },
   "file_extension": ".py",
   "mimetype": "text/x-python",
   "name": "python",
   "nbconvert_exporter": "python",
   "pygments_lexer": "ipython3",
   "version": "3.6.5"
  }
 },
 "nbformat": 4,
 "nbformat_minor": 2
}
