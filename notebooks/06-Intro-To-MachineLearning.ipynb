{
 "cells": [
  {
   "cell_type": "markdown",
   "metadata": {},
   "source": [
    "# Introduction to Machine Learning\n",
    "\n",
    "Machine Learning \"gives computer the ability to learn without being explicitly programmed\".\n",
    "\n",
    "**How is it related to AI?**\n",
    "\n",
    "AI is about building *intelligent* machines. ML is about building *intelligent* machines that *learn* (from data). \n",
    "\n",
    "**How is it different from traditional programming?**\n",
    "\n",
    "First. What is a *program*? Well, a program specifies the computation required to generate an output from an input. Normally, it's us, as the programmers, who specify that computation required. \n",
    "\n",
    "But, in machine learning that computation is \"learned\" by the machine itself i.e it finds the program, the computation required.\n",
    "\n",
    "And that is extremely useful because for a lot of complex (and even seemingly simple) problems, we cannot exactly specify the computation required. \n",
    "\n",
    "**Example 1**: Converting Temperature in Celcius (input) to Temperature in Kelvin (output) can be explicitly programmed. But say from Temperature in Celcius (input) we need to calculate/predict no. of buckets of ice cream sold at a store. That cannot be explicitly programmed.\n",
    "\n",
    "**Example 2**: How would we create a program to recognize \"2\"? \n",
    "\n",
    "Could it handle all these variations?\n",
    "\n",
    "<img src=\"../images/twos.png\" width=\"400\"/>"
   ]
  },
  {
   "cell_type": "markdown",
   "metadata": {},
   "source": [
    "## Types of Machine Learning problems\n",
    "\n",
    "There are many ways we can divide ML problems. But generally we can think in terms of these axes:\n",
    "\n",
    "I. Supervised (has labeled data):\n",
    "- Regression (continuous valued)\n",
    "- Classification (Categorical)\n",
    "\n",
    "II. Unsupervised (has unlabeled data):\n",
    "- Dimensionality Reduction, etc (continous valued)\n",
    "- Clustering (categorical)"
   ]
  },
  {
   "cell_type": "markdown",
   "metadata": {},
   "source": [
    "## Goalkeeper or not? \n",
    "\n",
    "Given a player's height and weight, predict whether they are a goalkeeper or an outfield player.\n",
    "\n",
    "<img src=\"../images/gk.jpg\" width=\"300\"/>"
   ]
  },
  {
   "cell_type": "code",
   "execution_count": null,
   "metadata": {},
   "outputs": [],
   "source": [
    "import numpy as np\n",
    "import pandas as pd\n",
    "import matplotlib.pyplot as plt\n",
    "import seaborn as sns\n",
    "import sklearn"
   ]
  },
  {
   "cell_type": "code",
   "execution_count": null,
   "metadata": {},
   "outputs": [],
   "source": [
    "df = pd.read_csv('../data/players.csv')"
   ]
  },
  {
   "cell_type": "code",
   "execution_count": null,
   "metadata": {},
   "outputs": [],
   "source": [
    "df.head()"
   ]
  },
  {
   "cell_type": "markdown",
   "metadata": {},
   "source": [
    "## Exercise 1\n",
    "\n",
    "Scatterplot (using `lmplot`) `height` and `weight`. Also use 'Position' for the `hue` parameter."
   ]
  },
  {
   "cell_type": "code",
   "execution_count": null,
   "metadata": {},
   "outputs": [],
   "source": [
    "#Code Here"
   ]
  },
  {
   "cell_type": "markdown",
   "metadata": {},
   "source": [
    "### Exercise 2\n",
    "\n",
    "Create a new column `Target` by mapping `Position` column. `GK` becomes `1`, `Outfield` becomes `0`."
   ]
  },
  {
   "cell_type": "markdown",
   "metadata": {},
   "source": [
    "## Train-Test Split"
   ]
  },
  {
   "cell_type": "markdown",
   "metadata": {},
   "source": [
    "### Exercise 3\n",
    "\n",
    "Split `df` into `train_df` (70%) and `test_df` (30%). \n",
    "\n",
    "Hint: Use indexing with `loc`."
   ]
  },
  {
   "cell_type": "code",
   "execution_count": null,
   "metadata": {},
   "outputs": [],
   "source": [
    "# Code Here\n",
    "# train_df = ...\n",
    "# test_df = ..."
   ]
  },
  {
   "cell_type": "markdown",
   "metadata": {},
   "source": [
    "## Self-Made Classifier"
   ]
  },
  {
   "cell_type": "markdown",
   "metadata": {},
   "source": [
    "We will define a classifier by ourselves by figuring out a threshold that makes sense. "
   ]
  },
  {
   "cell_type": "markdown",
   "metadata": {},
   "source": [
    "### Exercise 4\n",
    "\n",
    "i) Plot `height` distribution of the two groups. Call `sns.distplot` twice. First with data only for `GK`s. Again with data only for `Outfield`s. \n",
    "\n",
    "ii) Do the same for `weight`. "
   ]
  },
  {
   "cell_type": "code",
   "execution_count": null,
   "metadata": {},
   "outputs": [],
   "source": [
    "# Code Here"
   ]
  },
  {
   "cell_type": "markdown",
   "metadata": {},
   "source": [
    "### Exercise 5\n",
    "\n",
    "Define a function `classify` that takes 2d numpy list (where each row contains height and weight of one player) and returns a list of predictions. Prediction is `1` if it thinks the person is a `GK` else `0`.\n",
    "\n",
    "Define thresholds yourself from the above plots. \n",
    "\n",
    "Eg: If `height` > ... and `weight` > ... , predict `1`."
   ]
  },
  {
   "cell_type": "code",
   "execution_count": null,
   "metadata": {},
   "outputs": [],
   "source": [
    "# Code Here"
   ]
  },
  {
   "cell_type": "markdown",
   "metadata": {},
   "source": [
    "### Exercise 6\n",
    "\n",
    "Compute accuracy of the classifier on the test set. \n",
    "\n",
    "You can do it manually by comparing the `Target` column and generated predictions. Or you can use `sklearn.metrics.accuracy_score`."
   ]
  },
  {
   "cell_type": "code",
   "execution_count": null,
   "metadata": {},
   "outputs": [],
   "source": [
    "# Code Here"
   ]
  },
  {
   "cell_type": "markdown",
   "metadata": {},
   "source": [
    "## Classification with KNN"
   ]
  },
  {
   "cell_type": "code",
   "execution_count": null,
   "metadata": {},
   "outputs": [],
   "source": [
    "from sklearn.neighbors import KNeighborsClassifier"
   ]
  },
  {
   "cell_type": "code",
   "execution_count": null,
   "metadata": {},
   "outputs": [],
   "source": [
    "classifier = KNeighborsClassifier(n_neighbors=7)"
   ]
  },
  {
   "cell_type": "code",
   "execution_count": null,
   "metadata": {},
   "outputs": [],
   "source": [
    "train_x, train_y = train_df[['height', 'weight']].values, train_df['Target'].values"
   ]
  },
  {
   "cell_type": "code",
   "execution_count": null,
   "metadata": {},
   "outputs": [],
   "source": [
    "classifier.fit(train_x, train_y)"
   ]
  },
  {
   "cell_type": "markdown",
   "metadata": {},
   "source": [
    "### Exercise 7\n",
    "\n",
    "- Extract `test_x` and `test_y`.\n",
    "- Make predictions. Use `predict` function of the classifier.\n",
    "- Find Accuracy"
   ]
  },
  {
   "cell_type": "code",
   "execution_count": null,
   "metadata": {},
   "outputs": [],
   "source": [
    "# Code Here"
   ]
  },
  {
   "cell_type": "markdown",
   "metadata": {},
   "source": [
    "## Resources\n",
    "\n",
    "* [Intro to ML: DAT4](https://github.com/justmarkham/DAT4/blob/master/slides/06_ml_knn.pdf)"
   ]
  }
 ],
 "metadata": {
  "kernelspec": {
   "display_name": "Python 3",
   "language": "python",
   "name": "python3"
  },
  "language_info": {
   "codemirror_mode": {
    "name": "ipython",
    "version": 3
   },
   "file_extension": ".py",
   "mimetype": "text/x-python",
   "name": "python",
   "nbconvert_exporter": "python",
   "pygments_lexer": "ipython3",
   "version": "3.6.5"
  }
 },
 "nbformat": 4,
 "nbformat_minor": 2
}
